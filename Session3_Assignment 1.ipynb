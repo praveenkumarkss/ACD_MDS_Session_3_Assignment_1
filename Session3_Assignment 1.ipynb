{
 "cells": [
  {
   "cell_type": "code",
   "execution_count": 42,
   "metadata": {},
   "outputs": [
    {
     "name": "stdout",
     "output_type": "stream",
     "text": [
      "Error dividing by zero\n",
      "this division process leads to infinity\n",
      "“finally block. This clause allows defining statements that we want to execute, no matters whether the try block has raised an exception or not\n"
     ]
    }
   ],
   "source": [
    "#Session 3 Assignment 1\n",
    "#Task 1\n",
    "#Write a function to compute 5/0 and use try/except to catch the exceptions.\n",
    "def dividebyzero():\n",
    "    pass\n",
    "# Divide by zero\n",
    "try:\n",
    "    x = 5 / 0\n",
    "\n",
    "except:\n",
    "        print(\"Error dividing by zero\")\n",
    "        print(\"this division process leads to infinity\")\n",
    "finally:\n",
    "        print(\"“finally block. This clause allows defining statements that we want to execute, no matters whether the try block has raised an exception or not\")\n"
   ]
  },
  {
   "cell_type": "code",
   "execution_count": 1,
   "metadata": {},
   "outputs": [
    {
     "name": "stdout",
     "output_type": "stream",
     "text": [
      "Americans Play Baseball\n",
      "Americans Play cricket\n",
      "Americans watch Baseball\n",
      "Americans watch cricket\n",
      "Indians Play Baseball\n",
      "Indians Play cricket\n",
      "Indians watch Baseball\n",
      "Indians watch cricket\n"
     ]
    }
   ],
   "source": [
    "#Session 3 Assignment 1\n",
    "#Task 1\n",
    "#2. \n",
    "#Implement a Python program to generate all sentences where subject is in [\"Americans\", \"Indians\"] and verb is in [\"Play\", \"watch\"] and the object is in [\"Baseball\",\"cricket\"].\n",
    " # Hint: Subject,Verb and Object should be declared in the program as shown below.\n",
    "\n",
    "subject=[\"Americans\", \"Indians\"]\n",
    "verb=[\"Play\", \"watch\"]\n",
    "obj=[\"Baseball\",\"cricket\"]\n",
    "\n",
    "# Usinglist comprehension\n",
    "sentence_list = [(sub+\" \"+ vb + \" \" + ob ) for sub in subject for vb in verb for ob in obj]\n",
    "for sentence in sentence_list:\n",
    "    print (sentence)"
   ]
  },
  {
   "cell_type": "code",
   "execution_count": 8,
   "metadata": {},
   "outputs": [
    {
     "name": "stdout",
     "output_type": "stream",
     "text": [
      "Generating a Vandermonde matrix...\n",
      "Enter the value of N power :3\n",
      "Displays the matrix if increasing is false\n",
      " [[1 1 1]\n",
      " [4 2 1]\n",
      " [9 3 1]]\n",
      "Displays the matrix if increasing is false\n",
      " [[1 1 1]\n",
      " [1 2 4]\n",
      " [1 3 9]]\n"
     ]
    }
   ],
   "source": [
    "#Session 3 Assignment 1\n",
    "#Task 2\n",
    "#1.Write a function so that the columns of the output matrix are powers of the input vector. \n",
    "import numpy as np\n",
    "print('Generating a Vandermonde matrix...')\n",
    "\n",
    "N=int(input('Enter the value of N power :'))\n",
    "result_array=np.vander(np.array([1,2,3]),increasing=False)\n",
    "print(\"Displays the matrix if increasing is false\\n\",result_array)\n",
    "result1_array=np.vander(np.array([1,2,3]),increasing=True)\n",
    "print(\"Displays the matrix if increasing is false\\n\",result1_array)\n"
   ]
  },
  {
   "cell_type": "code",
   "execution_count": null,
   "metadata": {},
   "outputs": [],
   "source": []
  }
 ],
 "metadata": {
  "kernelspec": {
   "display_name": "Python 3",
   "language": "python",
   "name": "python3"
  },
  "language_info": {
   "codemirror_mode": {
    "name": "ipython",
    "version": 3
   },
   "file_extension": ".py",
   "mimetype": "text/x-python",
   "name": "python",
   "nbconvert_exporter": "python",
   "pygments_lexer": "ipython3",
   "version": "3.6.5"
  }
 },
 "nbformat": 4,
 "nbformat_minor": 2
}
